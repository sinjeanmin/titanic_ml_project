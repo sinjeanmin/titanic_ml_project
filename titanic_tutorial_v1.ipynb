{
 "cells": [
  {
   "cell_type": "code",
   "execution_count": 1,
   "id": "d40f2db7",
   "metadata": {
    "_cell_guid": "b1076dfc-b9ad-4769-8c92-a6c4dae69d19",
    "_uuid": "8f2839f25d086af736a60e9eeb907d3b93b6e0e5",
    "execution": {
     "iopub.execute_input": "2022-05-12T08:59:36.616645Z",
     "iopub.status.busy": "2022-05-12T08:59:36.615922Z",
     "iopub.status.idle": "2022-05-12T08:59:36.628585Z",
     "shell.execute_reply": "2022-05-12T08:59:36.627982Z"
    },
    "papermill": {
     "duration": 0.026319,
     "end_time": "2022-05-12T08:59:36.631536",
     "exception": false,
     "start_time": "2022-05-12T08:59:36.605217",
     "status": "completed"
    },
    "tags": []
   },
   "outputs": [
    {
     "name": "stdout",
     "output_type": "stream",
     "text": [
      "/kaggle/input/titanic/train.csv\n",
      "/kaggle/input/titanic/test.csv\n",
      "/kaggle/input/titanic/gender_submission.csv\n"
     ]
    }
   ],
   "source": [
    "# This Python 3 environment comes with many helpful analytics libraries installed\n",
    "# It is defined by the kaggle/python Docker image: https://github.com/kaggle/docker-python\n",
    "# For example, here's several helpful packages to load\n",
    "\n",
    "import numpy as np # linear algebra\n",
    "import pandas as pd # data processing, CSV file I/O (e.g. pd.read_csv)\n",
    "\n",
    "# Input data files are available in the read-only \"../input/\" directory\n",
    "# For example, running this (by clicking run or pressing Shift+Enter) will list all files under the input directory\n",
    "\n",
    "import os\n",
    "for dirname, _, filenames in os.walk('/kaggle/input'):\n",
    "    for filename in filenames:\n",
    "        print(os.path.join(dirname, filename))\n",
    "\n",
    "# You can write up to 20GB to the current directory (/kaggle/working/) that gets preserved as output when you create a version using \"Save & Run All\" \n",
    "# You can also write temporary files to /kaggle/temp/, but they won't be saved outside of the current session"
   ]
  },
  {
   "cell_type": "code",
   "execution_count": 2,
   "id": "d64a0d90",
   "metadata": {
    "execution": {
     "iopub.execute_input": "2022-05-12T08:59:36.650287Z",
     "iopub.status.busy": "2022-05-12T08:59:36.649828Z",
     "iopub.status.idle": "2022-05-12T08:59:36.677750Z",
     "shell.execute_reply": "2022-05-12T08:59:36.676625Z"
    },
    "papermill": {
     "duration": 0.039209,
     "end_time": "2022-05-12T08:59:36.680335",
     "exception": false,
     "start_time": "2022-05-12T08:59:36.641126",
     "status": "completed"
    },
    "tags": []
   },
   "outputs": [],
   "source": [
    "train_data = pd.read_csv('/kaggle/input/titanic/train.csv')\n",
    "test_data = pd.read_csv('/kaggle/input/titanic/test.csv')"
   ]
  },
  {
   "cell_type": "code",
   "execution_count": 3,
   "id": "dcd796fa",
   "metadata": {
    "execution": {
     "iopub.execute_input": "2022-05-12T08:59:36.699226Z",
     "iopub.status.busy": "2022-05-12T08:59:36.698677Z",
     "iopub.status.idle": "2022-05-12T08:59:36.713310Z",
     "shell.execute_reply": "2022-05-12T08:59:36.712238Z"
    },
    "papermill": {
     "duration": 0.027041,
     "end_time": "2022-05-12T08:59:36.715507",
     "exception": false,
     "start_time": "2022-05-12T08:59:36.688466",
     "status": "completed"
    },
    "tags": []
   },
   "outputs": [
    {
     "name": "stdout",
     "output_type": "stream",
     "text": [
      "% of women who survived: 0.7420382165605095\n"
     ]
    }
   ],
   "source": [
    "women = train_data.loc[train_data.Sex == 'female'][\"Survived\"]\n",
    "rate_women = sum(women)/len(women)\n",
    "\n",
    "print(\"% of women who survived:\", rate_women)"
   ]
  },
  {
   "cell_type": "code",
   "execution_count": 4,
   "id": "6e6e9a21",
   "metadata": {
    "execution": {
     "iopub.execute_input": "2022-05-12T08:59:36.733666Z",
     "iopub.status.busy": "2022-05-12T08:59:36.733070Z",
     "iopub.status.idle": "2022-05-12T08:59:36.740709Z",
     "shell.execute_reply": "2022-05-12T08:59:36.739538Z"
    },
    "papermill": {
     "duration": 0.018981,
     "end_time": "2022-05-12T08:59:36.742670",
     "exception": false,
     "start_time": "2022-05-12T08:59:36.723689",
     "status": "completed"
    },
    "tags": []
   },
   "outputs": [
    {
     "name": "stdout",
     "output_type": "stream",
     "text": [
      "% of men who survived: 0.18890814558058924\n"
     ]
    }
   ],
   "source": [
    "men = train_data.loc[train_data.Sex == 'male'][\"Survived\"]\n",
    "rate_men = sum(men)/len(men)\n",
    "\n",
    "print(\"% of men who survived:\", rate_men)"
   ]
  },
  {
   "cell_type": "code",
   "execution_count": 5,
   "id": "e53b108c",
   "metadata": {
    "execution": {
     "iopub.execute_input": "2022-05-12T08:59:36.761794Z",
     "iopub.status.busy": "2022-05-12T08:59:36.761003Z",
     "iopub.status.idle": "2022-05-12T08:59:38.454562Z",
     "shell.execute_reply": "2022-05-12T08:59:38.453380Z"
    },
    "papermill": {
     "duration": 1.70708,
     "end_time": "2022-05-12T08:59:38.458367",
     "exception": false,
     "start_time": "2022-05-12T08:59:36.751287",
     "status": "completed"
    },
    "tags": []
   },
   "outputs": [
    {
     "name": "stdout",
     "output_type": "stream",
     "text": [
      "Your submission was successfully saved!\n"
     ]
    }
   ],
   "source": [
    "from sklearn.ensemble import RandomForestClassifier\n",
    "\n",
    "y = train_data[\"Survived\"]\n",
    "\n",
    "features = [\"Pclass\", \"Sex\", \"SibSp\", \"Parch\"]\n",
    "X = pd.get_dummies(train_data[features]) #change categorical to dummy\n",
    "X_test = pd.get_dummies(test_data[features])\n",
    "\n",
    "model = RandomForestClassifier(n_estimators=100, max_depth=5, random_state=1)\n",
    "model.fit(X, y)\n",
    "predictions = model.predict(X_test)\n",
    "\n",
    "output = pd.DataFrame({'PassengerId': test_data.PassengerId, 'Survived': predictions})\n",
    "output.to_csv('submission.csv', index=False)\n",
    "print(\"Your submission was successfully saved!\")"
   ]
  },
  {
   "cell_type": "code",
   "execution_count": null,
   "id": "23b9eeee",
   "metadata": {
    "papermill": {
     "duration": 0.008844,
     "end_time": "2022-05-12T08:59:38.477138",
     "exception": false,
     "start_time": "2022-05-12T08:59:38.468294",
     "status": "completed"
    },
    "tags": []
   },
   "outputs": [],
   "source": []
  }
 ],
 "metadata": {
  "kernelspec": {
   "display_name": "Python 3",
   "language": "python",
   "name": "python3"
  },
  "language_info": {
   "codemirror_mode": {
    "name": "ipython",
    "version": 3
   },
   "file_extension": ".py",
   "mimetype": "text/x-python",
   "name": "python",
   "nbconvert_exporter": "python",
   "pygments_lexer": "ipython3",
   "version": "3.7.12"
  },
  "papermill": {
   "default_parameters": {},
   "duration": 12.990222,
   "end_time": "2022-05-12T08:59:39.206958",
   "environment_variables": {},
   "exception": null,
   "input_path": "__notebook__.ipynb",
   "output_path": "__notebook__.ipynb",
   "parameters": {},
   "start_time": "2022-05-12T08:59:26.216736",
   "version": "2.3.4"
  }
 },
 "nbformat": 4,
 "nbformat_minor": 5
}
